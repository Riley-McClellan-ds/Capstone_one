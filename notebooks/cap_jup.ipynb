{
 "cells": [
  {
   "cell_type": "code",
   "execution_count": 99,
   "metadata": {},
   "outputs": [],
   "source": [
    "import pandas as pd\n",
    "import numpy as np\n",
    "\n",
    "pd.set_option('display.max_row', 100)\n",
    "pd.set_option('display.max_columns', 50)\n"
   ]
  },
  {
   "cell_type": "code",
   "execution_count": 100,
   "metadata": {},
   "outputs": [],
   "source": [
    "tc = pd.read_csv('/Users/riley/Desktop/DSI/den-19/capstones/tree-csvs/new_york_tree_census_2015.csv')\n",
    "tsp = pd.read_csv('/Users/riley/Desktop/DSI/den-19/capstones/tree-csvs/new_york_tree_census_2015.csv') "
   ]
  },
  {
   "cell_type": "code",
   "execution_count": 3,
   "metadata": {},
   "outputs": [],
   "source": [
    "lsty = list()\n",
    "for i in tc.index:\n",
    "    if type(tc.loc[i, 'spc_latin']) == type(1.2):\n",
    "        lsty.append(i)"
   ]
  },
  {
   "cell_type": "code",
   "execution_count": 19,
   "metadata": {},
   "outputs": [
    {
     "data": {
      "text/plain": [
       "31619"
      ]
     },
     "execution_count": 19,
     "metadata": {},
     "output_type": "execute_result"
    }
   ],
   "source": [
    "len(lsty)"
   ]
  },
  {
   "cell_type": "code",
   "execution_count": 25,
   "metadata": {},
   "outputs": [],
   "source": [
    "for idx, _ in enumerate(lsty[0: 5000]):\n",
    "    tc.loc[lsty[idx], 'spc_latin'] = 'Unkown'"
   ]
  },
  {
   "cell_type": "code",
   "execution_count": 26,
   "metadata": {},
   "outputs": [],
   "source": [
    "for idx, _ in enumerate(lsty[5000: 10000]):\n",
    "    tc.loc[lsty[idx + 5000], 'spc_latin'] = 'Unkown'"
   ]
  },
  {
   "cell_type": "code",
   "execution_count": 28,
   "metadata": {},
   "outputs": [],
   "source": [
    "for idx, _ in enumerate(lsty[10000: 15000]):\n",
    "    tc.loc[lsty[idx + 10000], 'spc_latin'] = 'Unkown'"
   ]
  },
  {
   "cell_type": "code",
   "execution_count": 29,
   "metadata": {},
   "outputs": [],
   "source": [
    "for idx, _ in enumerate(lsty[15000: 20000]):\n",
    "    tc.loc[lsty[idx + 15000], 'spc_latin'] = 'Unkown'"
   ]
  },
  {
   "cell_type": "code",
   "execution_count": 30,
   "metadata": {},
   "outputs": [],
   "source": [
    "for idx, _ in enumerate(lsty[20000: 25000]):\n",
    "    tc.loc[lsty[idx + 20000], 'spc_latin'] = 'Unkown'"
   ]
  },
  {
   "cell_type": "code",
   "execution_count": 31,
   "metadata": {},
   "outputs": [],
   "source": [
    "for idx, _ in enumerate(lsty[25000: 30000]):\n",
    "    tc.loc[lsty[idx + 25000], 'spc_latin'] = 'Unkown'"
   ]
  },
  {
   "cell_type": "code",
   "execution_count": 33,
   "metadata": {},
   "outputs": [],
   "source": [
    "for idx, _ in enumerate(lsty[30000: ]):\n",
    "    tc.loc[lsty[idx + 30000], 'spc_latin'] = 'Unkown'"
   ]
  },
  {
   "cell_type": "code",
   "execution_count": 34,
   "metadata": {},
   "outputs": [],
   "source": [
    "lster = list()\n",
    "for i in tc.index:\n",
    "    if type(tc.loc[i, 'spc_latin']) == type(1.2):\n",
    "        lster.append(i)"
   ]
  },
  {
   "cell_type": "code",
   "execution_count": 35,
   "metadata": {},
   "outputs": [
    {
     "data": {
      "text/plain": [
       "[]"
      ]
     },
     "execution_count": 35,
     "metadata": {},
     "output_type": "execute_result"
    }
   ],
   "source": [
    "tc.loc[lsty[30], 'spc_latin']\n",
    "lster"
   ]
  },
  {
   "cell_type": "code",
   "execution_count": 41,
   "metadata": {},
   "outputs": [],
   "source": [
    "tc['problems'] = tc['problems'].replace([np.nan],'None', inplace=True)"
   ]
  },
  {
   "cell_type": "code",
   "execution_count": 42,
   "metadata": {},
   "outputs": [],
   "source": [
    "probs = list()\n",
    "for i in tc.index:\n",
    "    if type(tc.loc[i, 'problems']) == type(1.2):\n",
    "        probs.append(i)"
   ]
  },
  {
   "cell_type": "code",
   "execution_count": 43,
   "metadata": {},
   "outputs": [
    {
     "data": {
      "text/plain": [
       "[]"
      ]
     },
     "execution_count": 43,
     "metadata": {},
     "output_type": "execute_result"
    }
   ],
   "source": [
    "probs"
   ]
  },
  {
   "cell_type": "code",
   "execution_count": 44,
   "metadata": {},
   "outputs": [],
   "source": [
    "tc['spc_common'] = tc['spc_common'].replace([np.nan],'Unkown', inplace=True)"
   ]
  },
  {
   "cell_type": "code",
   "execution_count": 45,
   "metadata": {},
   "outputs": [],
   "source": [
    "com = list()\n",
    "for i in tc.index:\n",
    "    if type(tc.loc[i, 'spc_common']) == type(1.2):\n",
    "        com.append(i)"
   ]
  },
  {
   "cell_type": "code",
   "execution_count": 46,
   "metadata": {},
   "outputs": [
    {
     "data": {
      "text/plain": [
       "[]"
      ]
     },
     "execution_count": 46,
     "metadata": {},
     "output_type": "execute_result"
    }
   ],
   "source": [
    "com"
   ]
  },
  {
   "cell_type": "code",
   "execution_count": 53,
   "metadata": {},
   "outputs": [],
   "source": [
    "tc['steward'] = tc['steward'].replace([np.nan],'No Data', inplace=True)"
   ]
  },
  {
   "cell_type": "code",
   "execution_count": 54,
   "metadata": {},
   "outputs": [],
   "source": [
    "stw = list()\n",
    "for i in tc.index:\n",
    "    if type(tc.loc[i, 'steward']) == type(1.2):\n",
    "        stw.append(i)"
   ]
  },
  {
   "cell_type": "code",
   "execution_count": 55,
   "metadata": {},
   "outputs": [
    {
     "data": {
      "text/plain": [
       "[]"
      ]
     },
     "execution_count": 55,
     "metadata": {},
     "output_type": "execute_result"
    }
   ],
   "source": [
    "stw"
   ]
  },
  {
   "cell_type": "code",
   "execution_count": null,
   "metadata": {},
   "outputs": [],
   "source": [
    "# lsty = set()\n",
    "# for i in tc.loc['health']:\n",
    "#     if tc.loc['status'] == 'Dead':\n",
    "#         lsty.add(i)\n",
    "\n",
    "# for i in tc.loc['health']:\n",
    "#     if tc.loc[i,'status'] == 'Dead':\n",
    "#         tc.loc[i, 'health'] = tc.loc[i, 'health'].replace([np.nan],'Unkown', inplace=True)"
   ]
  },
  {
   "cell_type": "code",
   "execution_count": null,
   "metadata": {},
   "outputs": [],
   "source": []
  },
  {
   "cell_type": "code",
   "execution_count": 42,
   "metadata": {},
   "outputs": [
    {
     "name": "stdout",
     "output_type": "stream",
     "text": [
      "297358\n"
     ]
    }
   ],
   "source": [
    "lst = 0\n",
    "for i in tc.index:\n",
    "    if tc.loc[i, 'health'] not in ['Good', 'Fair', 'Poor', 'Dead', 'Stump']:\n",
    "        print(i)"
   ]
  },
  {
   "cell_type": "code",
   "execution_count": 35,
   "metadata": {},
   "outputs": [
    {
     "data": {
      "text/plain": [
       "31616"
      ]
     },
     "execution_count": 35,
     "metadata": {},
     "output_type": "execute_result"
    }
   ],
   "source": [
    "lst"
   ]
  },
  {
   "cell_type": "code",
   "execution_count": 36,
   "metadata": {},
   "outputs": [],
   "source": [
    "tc.loc[tc.status == 'Stump', 'health'] = 'Stump'"
   ]
  },
  {
   "cell_type": "code",
   "execution_count": 37,
   "metadata": {},
   "outputs": [],
   "source": [
    "tc.loc[tc.status == 'Dead', 'health'] = 'Dead'"
   ]
  },
  {
   "cell_type": "code",
   "execution_count": 38,
   "metadata": {},
   "outputs": [],
   "source": [
    "lst = 0\n",
    "for i in tc.index:\n",
    "    if tc.loc[i, 'health'] not in ['Good', 'Fair', 'Poor', 'Dead', 'Stump']:\n",
    "        lst += 1"
   ]
  },
  {
   "cell_type": "code",
   "execution_count": 39,
   "metadata": {},
   "outputs": [
    {
     "data": {
      "text/plain": [
       "1"
      ]
     },
     "execution_count": 39,
     "metadata": {},
     "output_type": "execute_result"
    }
   ],
   "source": [
    "lst"
   ]
  },
  {
   "cell_type": "code",
   "execution_count": 45,
   "metadata": {},
   "outputs": [
    {
     "data": {
      "text/plain": [
       "tree_id                       245041\n",
       "block_id                      413012\n",
       "created_at                2015-09-21\n",
       "tree_dbh                          16\n",
       "stump_diam                         0\n",
       "curb_loc                      OnCurb\n",
       "status                         Alive\n",
       "health                           NaN\n",
       "spc_latin     Fraxinus pennsylvanica\n",
       "spc_common                 green ash\n",
       "steward                         None\n",
       "guards                          None\n",
       "sidewalk                      Damage\n",
       "user_type           TreesCount Staff\n",
       "problems                        None\n",
       "root_stone                        No\n",
       "root_grate                        No\n",
       "root_other                        No\n",
       "trunk_wire                        No\n",
       "trnk_light                        No\n",
       "trnk_other                        No\n",
       "brch_light                        No\n",
       "brch_shoe                         No\n",
       "brch_other                        No\n",
       "address            84 LUCILLE AVENUE\n",
       "zipcode                        10309\n",
       "zip_city               Staten Island\n",
       "cb_num                           503\n",
       "borocode                           5\n",
       "boroname               Staten Island\n",
       "cncldist                          51\n",
       "st_assem                          62\n",
       "st_senate                         24\n",
       "nta                             SI32\n",
       "nta_name           Rossville-Woodrow\n",
       "boro_ct                      5020801\n",
       "state                       New York\n",
       "latitude                     40.5486\n",
       "longitude                   -74.2164\n",
       "x_sp                          924107\n",
       "y_sp                          139220\n",
       "Name: 297358, dtype: object"
      ]
     },
     "execution_count": 45,
     "metadata": {},
     "output_type": "execute_result"
    }
   ],
   "source": [
    "tc.loc[297358, :]"
   ]
  },
  {
   "cell_type": "code",
   "execution_count": 21,
   "metadata": {},
   "outputs": [
    {
     "name": "stdout",
     "output_type": "stream",
     "text": [
      "[array(['Alive', 'Dead', 'Stump'], dtype=object)]\n"
     ]
    }
   ],
   "source": [
    "cv = dict()\n",
    "\n",
    "for i in tc.columns:\n",
    "    cv[i] = []\n",
    "\n",
    "for i in tc.columns:\n",
    "    cv[i].append(tc[i].unique())\n",
    "\n",
    "\n",
    "print(cv['status'])"
   ]
  },
  {
   "cell_type": "code",
   "execution_count": 107,
   "metadata": {},
   "outputs": [],
   "source": [
    "tc.loc[tc.status == 'Dead', 'health'] = 'Dead'\n",
    "tc.loc[tc.status == 'Stump', 'health'] = 'Stump'\n",
    "tc['spc_latin'] = tc['spc_latin'].replace([np.nan],'Unkown')\n",
    "tc['spc_common'] = tc['spc_common'].replace([np.nan],'Unkown')\n",
    "tc['steward'] = tc['steward'].replace([np.nan],'Unkown')\n",
    "tc['guards'] = tc['guards'].replace([np.nan],'Unkown')\n",
    "tc['sidewalk'] = tc['sidewalk'].replace([np.nan],'Unkown')\n",
    "tc['problems'] = tc['problems'].replace([np.nan],'Unkown')\n"
   ]
  },
  {
   "cell_type": "code",
   "execution_count": 108,
   "metadata": {},
   "outputs": [],
   "source": [
    "bad_columns = []\n",
    "bc_nums = []\n",
    "for i in tc.columns:\n",
    "    if tc[i].isnull().values.any():\n",
    "        bad_columns.append(i)\n",
    "for i in tc.columns:\n",
    "    if tc[i].isnull().sum():\n",
    "        bc_nums.append(tc[i].isnull().sum())\n"
   ]
  },
  {
   "cell_type": "code",
   "execution_count": 109,
   "metadata": {},
   "outputs": [
    {
     "data": {
      "text/plain": [
       "['health']"
      ]
     },
     "execution_count": 109,
     "metadata": {},
     "output_type": "execute_result"
    }
   ],
   "source": [
    "bad_columns"
   ]
  },
  {
   "cell_type": "code",
   "execution_count": 110,
   "metadata": {},
   "outputs": [],
   "source": [
    "idx = set()\n",
    "\n",
    "for i in bad_columns:\n",
    "    tc[tc[i].isnull()].index.values\n",
    "    for b in tc[tc[i].isnull()].index.values:\n",
    "        idx.add(b)"
   ]
  },
  {
   "cell_type": "code",
   "execution_count": 111,
   "metadata": {},
   "outputs": [
    {
     "data": {
      "text/plain": [
       "1"
      ]
     },
     "execution_count": 111,
     "metadata": {},
     "output_type": "execute_result"
    }
   ],
   "source": [
    "len(idx)"
   ]
  },
  {
   "cell_type": "code",
   "execution_count": 112,
   "metadata": {},
   "outputs": [
    {
     "data": {
      "text/plain": [
       "0                Fraxinus pennsylvanica\n",
       "1    Gleditsia triacanthos var. inermis\n",
       "2                      Pyrus calleryana\n",
       "3                      Pyrus calleryana\n",
       "4                     Prunus virginiana\n",
       "Name: spc_latin, dtype: object"
      ]
     },
     "execution_count": 112,
     "metadata": {},
     "output_type": "execute_result"
    }
   ],
   "source": [
    "tc['spc_latin'].head(5)"
   ]
  },
  {
   "cell_type": "code",
   "execution_count": null,
   "metadata": {},
   "outputs": [],
   "source": []
  },
  {
   "cell_type": "code",
   "execution_count": null,
   "metadata": {},
   "outputs": [],
   "source": [
    "# if you're droppin a row or column make it a function for the rubric"
   ]
  },
  {
   "cell_type": "code",
   "execution_count": null,
   "metadata": {},
   "outputs": [],
   "source": []
  },
  {
   "cell_type": "code",
   "execution_count": null,
   "metadata": {},
   "outputs": [],
   "source": []
  },
  {
   "cell_type": "code",
   "execution_count": null,
   "metadata": {},
   "outputs": [],
   "source": []
  },
  {
   "cell_type": "code",
   "execution_count": null,
   "metadata": {},
   "outputs": [],
   "source": []
  },
  {
   "cell_type": "code",
   "execution_count": null,
   "metadata": {},
   "outputs": [],
   "source": []
  },
  {
   "cell_type": "code",
   "execution_count": null,
   "metadata": {},
   "outputs": [],
   "source": []
  }
 ],
 "metadata": {
  "kernelspec": {
   "display_name": "Python 3",
   "language": "python",
   "name": "python3"
  },
  "language_info": {
   "codemirror_mode": {
    "name": "ipython",
    "version": 3
   },
   "file_extension": ".py",
   "mimetype": "text/x-python",
   "name": "python",
   "nbconvert_exporter": "python",
   "pygments_lexer": "ipython3",
   "version": "3.7.7"
  }
 },
 "nbformat": 4,
 "nbformat_minor": 4
}
